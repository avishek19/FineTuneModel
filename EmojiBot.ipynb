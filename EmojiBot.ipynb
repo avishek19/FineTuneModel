{
 "cells": [
  {
   "cell_type": "markdown",
   "id": "2bd5936d",
   "metadata": {},
   "source": [
    "Step 1: Setup OpenAI API Key"
   ]
  },
  {
   "cell_type": "markdown",
   "id": "d3566291",
   "metadata": {},
   "source": []
  },
  {
   "cell_type": "code",
   "execution_count": null,
   "id": "bf058593",
   "metadata": {},
   "outputs": [],
   "source": [
    "import openai\n",
    "from openai import OpenAI\n",
    "\n",
    "api_key=\"<your api-key>\"\n"
   ]
  },
  {
   "cell_type": "markdown",
   "id": "5ca8f43c",
   "metadata": {},
   "source": [
    "Step 2: Reading training file with 11 examples"
   ]
  },
  {
   "cell_type": "code",
   "execution_count": 4,
   "id": "15ea3332",
   "metadata": {},
   "outputs": [
    {
     "name": "stdout",
     "output_type": "stream",
     "text": [
      "2279 \n",
      " {\"messages\": [{\"role\": \"system\", \"content\": \"You're a chatbot that only responds with emojis!\"}, {\"role\": \"user\", \"content\": \"I just passed my driving test!\"}, {\"role\": \"assistant\", \"content\": \"(party)\" }]}  \n",
      "{\"messages\": [{\"role\": \"system\", \"content\": \"You're a chatbot that only responds with emojis!\"}, {\"role\": \"user\", \"content\": \"Feeling pretty sick today.\"}, {\"role\": \"assistant\", \"content\": \"(facewithmedicalmask)\" }]}   \n",
      "{\"messages\": [{\"role\": \"system\", \"content\": \"You're a chatbot that only responds with emojis!\"}, {\"role\": \"user\", \"content\": \"I just got promoted at work!\"}, {\"role\": \"assistant\", \"content\": \"(confetti)\" }]}  \n",
      "{\"messages\": [{\"role\": \"system\", \"content\": \"You're a chatbot that only responds with emojis!\"}, {\"role\": \"user\", \"content\": \"I'm feeling really tired.\"}, {\"role\": \"assistant\", \"content\": \"(sleeping)\" }]}  \n",
      "{\"messages\": [{\"role\": \"system\", \"content\": \"You're a chatbot that only responds with emojis!\"}, {\"role\": \"user\", \"content\": \"Just adopted a puppy!\"}, {\"role\": \"assistant\", \"content\": \"(dog)\" }]}  \n",
      "{\"messages\": [{\"role\": \"system\", \"content\": \"You're a chatbot that only responds with emojis!\"}, {\"role\": \"user\", \"content\": \"I'm stuck in traffic.\"}, {\"role\": \"assistant\", \"content\": \"(car)\" }]}  \n",
      "{\"messages\": [{\"role\": \"system\", \"content\": \"You're a chatbot that only responds with emojis!\"}, {\"role\": \"user\", \"content\": \"Just finished a great workout!\"}, {\"role\": \"assistant\", \"content\": \"(muscle)\" }]}  \n",
      "{\"messages\": [{\"role\": \"system\", \"content\": \"You're a chatbot that only responds with emojis!\"}, {\"role\": \"user\", \"content\": \"I'm feeling really stressed about this project.\"}, {\"role\": \"assistant\", \"content\": \"(sweating)\" }]}  \n",
      "{\"messages\": [{\"role\": \"system\", \"content\": \"You're a chatbot that only responds with emojis!\"}, {\"role\": \"user\", \"content\": \"I won the lottery!\"}, {\"role\": \"assistant\", \"content\": \"(moneybag)\" }]}  \n",
      "{\"messages\": [{\"role\": \"system\", \"content\": \"You're a chatbot that only responds with emojis!\"}, {\"role\": \"user\", \"content\": \"I made a delicious meal!\"}, {\"role\": \"assistant\", \"content\": \"(yum)\" }]}  \n",
      "{\"messages\": [{\"role\": \"system\", \"content\": \"You're a chatbot that only responds with emojis!\"}, {\"role\": \"user\", \"content\": \"I'm going for a run.\"}, {\"role\": \"assistant\", \"content\": \"(runner)\" }]}\n"
     ]
    }
   ],
   "source": [
    "data_file = \"Assignment/data/emoji_test_train.jsonl\"\n",
    "# Simple text file reading\n",
    "with open(data_file, \"r\") as file:\n",
    "    content = file.read()\n",
    "    print(len(content),'\\n',content)"
   ]
  },
  {
   "cell_type": "markdown",
   "id": "6c5b663f",
   "metadata": {},
   "source": [
    "Step 3: Upload Training File to OpneAI"
   ]
  },
  {
   "cell_type": "code",
   "execution_count": 5,
   "id": "e1bd0996",
   "metadata": {},
   "outputs": [
    {
     "name": "stdout",
     "output_type": "stream",
     "text": [
      "Uploaded file ID: file-Bemda6VmBac3dqSojhfSJQ\n"
     ]
    }
   ],
   "source": [
    "import openai\n",
    "from openai import OpenAI\n",
    "\n",
    "#Make API Client to interact ChatGPT\n",
    "client = OpenAI(api_key=api_key)\n",
    "\n",
    "data_file = \"Assignment/data/emoji_test_train.jsonl\"\n",
    "\n",
    "# Upload training file\n",
    "with open(data_file, \"rb\") as file:\n",
    "    uploaded_file = client.files.create(\n",
    "        file=file,\n",
    "        purpose=\"fine-tune\"\n",
    "    )\n",
    "\n",
    "print(\"Uploaded file ID:\", uploaded_file.id)\n"
   ]
  },
  {
   "cell_type": "markdown",
   "id": "b1418004",
   "metadata": {},
   "source": [
    "Step 4: Create and Start a Fine-Tunning Job"
   ]
  },
  {
   "cell_type": "code",
   "execution_count": 6,
   "id": "dbb05f3c",
   "metadata": {},
   "outputs": [
    {
     "name": "stdout",
     "output_type": "stream",
     "text": [
      "Fine-tuning job created with ID: ftjob-ErAzyriYoGsYjeVc5gqLQ7RD\n"
     ]
    }
   ],
   "source": [
    "# Start a fine-tuning job\n",
    "fine_tuning_job = client.fine_tuning.jobs.create(\n",
    "    training_file=uploaded_file.id,\n",
    "    model=\"gpt-3.5-turbo\",  # Base model to fine-tune\n",
    "    suffix=\"emoji-bot\"  # Custom suffix for your model name\n",
    ")\n",
    "\n",
    "# Save the job ID\n",
    "job_id = fine_tuning_job.id\n",
    "print(f\"Fine-tuning job created with ID: {job_id}\")"
   ]
  },
  {
   "cell_type": "markdown",
   "id": "8158cf64",
   "metadata": {},
   "source": [
    "Step 5: Monitor the Fine-Tuning Progress"
   ]
  },
  {
   "cell_type": "code",
   "execution_count": 12,
   "id": "1a837114",
   "metadata": {},
   "outputs": [
    {
     "name": "stdout",
     "output_type": "stream",
     "text": [
      "Job status: succeeded\n",
      "Time(1745767104): The job has successfully completed\n",
      "Time(1745767099): New fine-tuned model created\n",
      "Time(1745767099): Checkpoint created at step 88\n",
      "Time(1745767099): Checkpoint created at step 77\n",
      "Time(1745767063): Step 99/99: training loss=0.00\n",
      "Time(1745767063): Step 98/99: training loss=0.00\n",
      "Time(1745767061): Step 97/99: training loss=0.00\n",
      "Time(1745767060): Step 96/99: training loss=0.00\n",
      "Time(1745767057): Step 95/99: training loss=0.86\n",
      "Time(1745767057): Step 94/99: training loss=0.00\n"
     ]
    }
   ],
   "source": [
    "# Check the status of your fine-tuning job\n",
    "job_status = client.fine_tuning.jobs.retrieve(job_id)\n",
    "print(f\"Job status: {job_status.status}\")\n",
    "\n",
    "# List events to see progress details\n",
    "events = client.fine_tuning.jobs.list_events(\n",
    "    fine_tuning_job_id=job_id, \n",
    "    limit=10\n",
    "    )\n",
    "\n",
    "for event in events.data:\n",
    "    print(f\"Time({event.created_at}): {event.message}\")"
   ]
  },
  {
   "cell_type": "markdown",
   "id": "a671323e",
   "metadata": {},
   "source": [
    "Step 6: Crate Fine-Tuned Model Endpoint"
   ]
  },
  {
   "cell_type": "code",
   "execution_count": 13,
   "id": "73b604a4",
   "metadata": {},
   "outputs": [
    {
     "name": "stdout",
     "output_type": "stream",
     "text": [
      "Your fine-tuned model endpoint: ft:gpt-3.5-turbo-0125:personal:emoji-bot:BQy3mqFx\n"
     ]
    }
   ],
   "source": [
    "# Get the model endpoint\n",
    "completed_job = client.fine_tuning.jobs.retrieve(job_id)\n",
    "model_endpoint = completed_job.fine_tuned_model\n",
    "print(f\"Your fine-tuned model endpoint: {model_endpoint}\")"
   ]
  },
  {
   "cell_type": "markdown",
   "id": "fef4221d",
   "metadata": {},
   "source": [
    "Step 7: Use Fine-Tuned Model Endpoint to Validate four different emotions"
   ]
  },
  {
   "cell_type": "code",
   "execution_count": 24,
   "id": "d5fd0154",
   "metadata": {},
   "outputs": [
    {
     "name": "stdout",
     "output_type": "stream",
     "text": [
      "User Emotion:  I scrwed my lunch today! \n",
      " Emoji Bot Representation:  poop\n",
      "User Emotion:  I just landed in India! \n",
      " Emoji Bot Representation:  india\n",
      "User Emotion:  I lost my best friend. \n",
      " Emoji Bot Representation:  sadcat\n",
      "User Emotion:  That joke was so funny! \n",
      " Emoji Bot Representation:  rofl\n",
      "User Emotion:  My son statretd to walk today. \n",
      " Emoji Bot Representation:  child\n"
     ]
    }
   ],
   "source": [
    "# Test your fine-tuned model\n",
    "user_content = ['I scrwed my lunch today!','I just landed in India!','I lost my best friend.','That joke was so funny!','My son statretd to walk today.']\n",
    "\n",
    "for user in user_content:\n",
    "    response = client.chat.completions.create(\n",
    "    model=\"ft:gpt-3.5-turbo-0125:personal:emoji-bot:BQynTGb1\", #Model took long time to get ready, so I updated the endpoint\n",
    "    messages=[\n",
    "        {\"role\": \"system\", \"content\": \"You are an Emoji Bot that converts text descriptions to appropriate emojis.\"},\n",
    "        {\"role\": \"user\", \"content\": user}\n",
    "    ],\n",
    "    max_tokens=50\n",
    "    )\n",
    "    print('User Emotion: ',user,'\\n Emoji Bot Representation: ',response.choices[0].message.content.strip('()'))"
   ]
  },
  {
   "cell_type": "markdown",
   "id": "a16e93a6",
   "metadata": {},
   "source": [
    "Step 8: Crate FineTune model with another training file with 569 examples, last one had 11 examples"
   ]
  },
  {
   "cell_type": "code",
   "execution_count": 25,
   "id": "1dc69e86",
   "metadata": {},
   "outputs": [
    {
     "name": "stdout",
     "output_type": "stream",
     "text": [
      "Uploaded file ID: file-SfXX9MY2iXZV2eijaWa1VX\n",
      "Fine-tuning job created with ID: ftjob-r9T7PShcc60Z4SjmxahEy7R2\n",
      "Job status: validating_files\n",
      "Time(1745771510): Validating training file: file-SfXX9MY2iXZV2eijaWa1VX\n",
      "Time(1745771510): Created fine-tuning job: ftjob-r9T7PShcc60Z4SjmxahEy7R2\n",
      "\n",
      "\t ***** Model Fine Tune with more data ******\n",
      "\n",
      "\n",
      "User Emotion:  I scrwed my lunch today! \n",
      " Emoji Bot Representation:  poop\n",
      "User Emotion:  I just landed in India! \n",
      " Emoji Bot Representation:  airplane\n",
      "User Emotion:  I lost my best friend. \n",
      " Emoji Bot Representation:  sadcat\n",
      "User Emotion:  That joke was so funny! \n",
      " Emoji Bot Representation:  rofl\n",
      "User Emotion:  My son statretd to walk today. \n",
      " Emoji Bot Representation:  babylearnstowalk\n"
     ]
    }
   ],
   "source": [
    "import openai\n",
    "from openai import OpenAI\n",
    "\n",
    "data_file = \"Assignment/data/emoji_test_more_train.jsonl\"\n",
    "\n",
    "# Upload training file with more data\n",
    "with open(data_file, \"rb\") as file:\n",
    "    uploaded_file = client.files.create(\n",
    "        file=file,\n",
    "        purpose=\"fine-tune\"\n",
    "    )\n",
    "\n",
    "print(\"Uploaded file ID:\", uploaded_file.id)\n",
    "\n",
    "# Start a fine-tuning job\n",
    "fine_tuning_job = client.fine_tuning.jobs.create(\n",
    "    training_file=uploaded_file.id,\n",
    "    model=\"gpt-3.5-turbo\",  # Base model to fine-tune\n",
    "    suffix=\"emoji-bot\"  # Custom suffix for your model name\n",
    ")\n",
    "\n",
    "# Save the job ID\n",
    "job_id = fine_tuning_job.id\n",
    "print(f\"Fine-tuning job created with ID: {job_id}\")\n",
    "\n",
    "# Check the status of your fine-tuning job\n",
    "job_status = client.fine_tuning.jobs.retrieve(job_id)\n",
    "print(f\"Job status: {job_status.status}\")\n",
    "\n",
    "# List events to see progress details\n",
    "events = client.fine_tuning.jobs.list_events(\n",
    "    fine_tuning_job_id=job_id, \n",
    "    limit=10\n",
    "    )\n",
    "\n",
    "for event in events.data:\n",
    "    print(f\"Time({event.created_at}): {event.message}\")\n",
    "    \n",
    "#Use Fine-Tuned Model Endpoint to Validate same three different emotions\n",
    "# Test your fine-tuned model\n",
    "user_content = ['I scrwed my lunch today!','I just landed in India!','I lost my best friend.','That joke was so funny!','My son statretd to walk today.']\n",
    "\n",
    "print('\\n\\t ***** Model Fine Tune with more data ******\\n\\n')\n",
    "\n",
    "for user in user_content:\n",
    "    response = client.chat.completions.create(\n",
    "    model=\"ft:gpt-3.5-turbo-0125:personal:emoji-bot:BQywx1HQ\", #model took time to get ready, so I updated the endpoint\n",
    "    messages=[\n",
    "        {\"role\": \"system\", \"content\": \"You are an Emoji Bot that converts text descriptions to appropriate emojis.\"},\n",
    "        {\"role\": \"user\", \"content\": user}\n",
    "    ],\n",
    "    max_tokens=50\n",
    "    )\n",
    "    print('User Emotion: ',user,'\\n Emoji Bot Representation: ',response.choices[0].message.content.strip('()'))"
   ]
  },
  {
   "cell_type": "markdown",
   "id": "1f7fae3e",
   "metadata": {},
   "source": [
    "Here, the model with more training data gave better responses. While we updated the bot about India landing, it gave an airplane response rather giving irrelevant response stating the country. \n",
    "The same goes on for our last query, the response is more relevent to the query than the previous one trained with less examples.\n"
   ]
  },
  {
   "cell_type": "markdown",
   "id": "eadff121",
   "metadata": {},
   "source": [
    "Step 9: Delete fineTune endpoint to save cost (if not needed) "
   ]
  },
  {
   "cell_type": "code",
   "execution_count": 26,
   "id": "923cf5f1",
   "metadata": {},
   "outputs": [],
   "source": [
    "# #Created Models\n",
    "model_list=[\"ft:gpt-3.5-turbo-0125:personal:emoji-bot:BQyaylS7\"]\n",
    "\n",
    "for list in model_list:\n",
    "    client.models.delete(list)"
   ]
  },
  {
   "cell_type": "markdown",
   "id": "015ac83d",
   "metadata": {},
   "source": []
  },
  {
   "cell_type": "markdown",
   "id": "b6d0d2eb",
   "metadata": {},
   "source": []
  }
 ],
 "metadata": {
  "kernelspec": {
   "display_name": "base",
   "language": "python",
   "name": "python3"
  },
  "language_info": {
   "codemirror_mode": {
    "name": "ipython",
    "version": 3
   },
   "file_extension": ".py",
   "mimetype": "text/x-python",
   "name": "python",
   "nbconvert_exporter": "python",
   "pygments_lexer": "ipython3",
   "version": "3.11.7"
  }
 },
 "nbformat": 4,
 "nbformat_minor": 5
}
